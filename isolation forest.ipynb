{
 "cells": [
  {
   "cell_type": "code",
   "execution_count": 134,
   "metadata": {},
   "outputs": [],
   "source": [
    "import pandas as pd\n",
    "import numpy as np\n",
    "import matplotlib.pyplot as plt\n",
    "from sklearn.ensemble import IsolationForest\n",
    "from sklearn.decomposition import PCA "
   ]
  },
  {
   "cell_type": "markdown",
   "metadata": {},
   "source": [
    "# Data"
   ]
  },
  {
   "cell_type": "code",
   "execution_count": 135,
   "metadata": {},
   "outputs": [
    {
     "data": {
      "text/html": [
       "<div>\n",
       "<style scoped>\n",
       "    .dataframe tbody tr th:only-of-type {\n",
       "        vertical-align: middle;\n",
       "    }\n",
       "\n",
       "    .dataframe tbody tr th {\n",
       "        vertical-align: top;\n",
       "    }\n",
       "\n",
       "    .dataframe thead th {\n",
       "        text-align: right;\n",
       "    }\n",
       "</style>\n",
       "<table border=\"1\" class=\"dataframe\">\n",
       "  <thead>\n",
       "    <tr style=\"text-align: right;\">\n",
       "      <th></th>\n",
       "      <th>air_inflow</th>\n",
       "      <th>air_end_temp</th>\n",
       "      <th>out_pressure</th>\n",
       "      <th>motor_current</th>\n",
       "      <th>motor_rpm</th>\n",
       "      <th>motor_temp</th>\n",
       "      <th>motor_vibe</th>\n",
       "      <th>type</th>\n",
       "    </tr>\n",
       "  </thead>\n",
       "  <tbody>\n",
       "    <tr>\n",
       "      <td>0</td>\n",
       "      <td>1.59</td>\n",
       "      <td>41.00</td>\n",
       "      <td>0.7</td>\n",
       "      <td>20.53</td>\n",
       "      <td>1680.0</td>\n",
       "      <td>58.67</td>\n",
       "      <td>2.93</td>\n",
       "      <td>0</td>\n",
       "    </tr>\n",
       "    <tr>\n",
       "      <td>1</td>\n",
       "      <td>2.97</td>\n",
       "      <td>59.28</td>\n",
       "      <td>0.7</td>\n",
       "      <td>38.40</td>\n",
       "      <td>3142.0</td>\n",
       "      <td>74.91</td>\n",
       "      <td>3.75</td>\n",
       "      <td>0</td>\n",
       "    </tr>\n",
       "    <tr>\n",
       "      <td>2</td>\n",
       "      <td>1.91</td>\n",
       "      <td>45.29</td>\n",
       "      <td>0.7</td>\n",
       "      <td>24.73</td>\n",
       "      <td>2023.0</td>\n",
       "      <td>62.48</td>\n",
       "      <td>3.12</td>\n",
       "      <td>0</td>\n",
       "    </tr>\n",
       "    <tr>\n",
       "      <td>3</td>\n",
       "      <td>2.37</td>\n",
       "      <td>51.33</td>\n",
       "      <td>0.7</td>\n",
       "      <td>30.63</td>\n",
       "      <td>2506.0</td>\n",
       "      <td>67.84</td>\n",
       "      <td>3.39</td>\n",
       "      <td>0</td>\n",
       "    </tr>\n",
       "    <tr>\n",
       "      <td>4</td>\n",
       "      <td>1.90</td>\n",
       "      <td>45.21</td>\n",
       "      <td>0.7</td>\n",
       "      <td>24.65</td>\n",
       "      <td>2017.0</td>\n",
       "      <td>62.41</td>\n",
       "      <td>3.12</td>\n",
       "      <td>0</td>\n",
       "    </tr>\n",
       "  </tbody>\n",
       "</table>\n",
       "</div>"
      ],
      "text/plain": [
       "   air_inflow  air_end_temp  out_pressure  motor_current  motor_rpm  \\\n",
       "0        1.59         41.00           0.7          20.53     1680.0   \n",
       "1        2.97         59.28           0.7          38.40     3142.0   \n",
       "2        1.91         45.29           0.7          24.73     2023.0   \n",
       "3        2.37         51.33           0.7          30.63     2506.0   \n",
       "4        1.90         45.21           0.7          24.65     2017.0   \n",
       "\n",
       "   motor_temp  motor_vibe  type  \n",
       "0       58.67        2.93     0  \n",
       "1       74.91        3.75     0  \n",
       "2       62.48        3.12     0  \n",
       "3       67.84        3.39     0  \n",
       "4       62.41        3.12     0  "
      ]
     },
     "execution_count": 135,
     "metadata": {},
     "output_type": "execute_result"
    }
   ],
   "source": [
    "train = pd.read_csv('./train_data.csv')\n",
    "train.head()"
   ]
  },
  {
   "cell_type": "code",
   "execution_count": 136,
   "metadata": {},
   "outputs": [],
   "source": [
    "train_columns = ['air_inflow', 'air_end_temp', 'out_pressure', 'motor_current',\t'motor_rpm', 'motor_temp', 'motor_vibe', 'type']"
   ]
  },
  {
   "cell_type": "code",
   "execution_count": 137,
   "metadata": {},
   "outputs": [
    {
     "data": {
      "text/html": [
       "<div>\n",
       "<style scoped>\n",
       "    .dataframe tbody tr th:only-of-type {\n",
       "        vertical-align: middle;\n",
       "    }\n",
       "\n",
       "    .dataframe tbody tr th {\n",
       "        vertical-align: top;\n",
       "    }\n",
       "\n",
       "    .dataframe thead th {\n",
       "        text-align: right;\n",
       "    }\n",
       "</style>\n",
       "<table border=\"1\" class=\"dataframe\">\n",
       "  <thead>\n",
       "    <tr style=\"text-align: right;\">\n",
       "      <th></th>\n",
       "      <th>air_inflow</th>\n",
       "      <th>air_end_temp</th>\n",
       "      <th>out_pressure</th>\n",
       "      <th>motor_current</th>\n",
       "      <th>motor_rpm</th>\n",
       "      <th>motor_temp</th>\n",
       "      <th>motor_vibe</th>\n",
       "      <th>type</th>\n",
       "    </tr>\n",
       "  </thead>\n",
       "  <tbody>\n",
       "    <tr>\n",
       "      <td>0</td>\n",
       "      <td>2.51</td>\n",
       "      <td>53.28</td>\n",
       "      <td>0.7</td>\n",
       "      <td>32.54</td>\n",
       "      <td>2662.0</td>\n",
       "      <td>69.58</td>\n",
       "      <td>3.48</td>\n",
       "      <td>0</td>\n",
       "    </tr>\n",
       "    <tr>\n",
       "      <td>1</td>\n",
       "      <td>2.66</td>\n",
       "      <td>55.24</td>\n",
       "      <td>0.7</td>\n",
       "      <td>34.45</td>\n",
       "      <td>2819.0</td>\n",
       "      <td>71.32</td>\n",
       "      <td>3.57</td>\n",
       "      <td>0</td>\n",
       "    </tr>\n",
       "    <tr>\n",
       "      <td>2</td>\n",
       "      <td>1.72</td>\n",
       "      <td>42.74</td>\n",
       "      <td>0.7</td>\n",
       "      <td>22.23</td>\n",
       "      <td>1819.0</td>\n",
       "      <td>60.21</td>\n",
       "      <td>3.01</td>\n",
       "      <td>0</td>\n",
       "    </tr>\n",
       "    <tr>\n",
       "      <td>3</td>\n",
       "      <td>2.20</td>\n",
       "      <td>49.15</td>\n",
       "      <td>0.7</td>\n",
       "      <td>28.50</td>\n",
       "      <td>2332.0</td>\n",
       "      <td>65.91</td>\n",
       "      <td>3.30</td>\n",
       "      <td>0</td>\n",
       "    </tr>\n",
       "    <tr>\n",
       "      <td>4</td>\n",
       "      <td>2.06</td>\n",
       "      <td>47.28</td>\n",
       "      <td>0.7</td>\n",
       "      <td>26.67</td>\n",
       "      <td>2182.0</td>\n",
       "      <td>64.24</td>\n",
       "      <td>3.21</td>\n",
       "      <td>0</td>\n",
       "    </tr>\n",
       "  </tbody>\n",
       "</table>\n",
       "</div>"
      ],
      "text/plain": [
       "   air_inflow  air_end_temp  out_pressure  motor_current  motor_rpm  \\\n",
       "0        2.51         53.28           0.7          32.54     2662.0   \n",
       "1        2.66         55.24           0.7          34.45     2819.0   \n",
       "2        1.72         42.74           0.7          22.23     1819.0   \n",
       "3        2.20         49.15           0.7          28.50     2332.0   \n",
       "4        2.06         47.28           0.7          26.67     2182.0   \n",
       "\n",
       "   motor_temp  motor_vibe  type  \n",
       "0       69.58        3.48     0  \n",
       "1       71.32        3.57     0  \n",
       "2       60.21        3.01     0  \n",
       "3       65.91        3.30     0  \n",
       "4       64.24        3.21     0  "
      ]
     },
     "execution_count": 137,
     "metadata": {},
     "output_type": "execute_result"
    }
   ],
   "source": [
    "test = pd.read_csv('./test_data.csv')\n",
    "test.head()"
   ]
  },
  {
   "cell_type": "code",
   "execution_count": 138,
   "metadata": {},
   "outputs": [],
   "source": [
    "test_columns = ['air_inflow', 'air_end_temp', 'out_pressure', 'motor_current',\t'motor_rpm', 'motor_temp', 'motor_vibe', 'type']"
   ]
  },
  {
   "cell_type": "markdown",
   "metadata": {},
   "source": [
    "# Isolation Forest"
   ]
  },
  {
   "cell_type": "code",
   "execution_count": 139,
   "metadata": {},
   "outputs": [
    {
     "name": "stderr",
     "output_type": "stream",
     "text": [
      "C:\\ProgramData\\Anaconda3\\lib\\site-packages\\sklearn\\ensemble\\iforest.py:247: FutureWarning: behaviour=\"old\" is deprecated and will be removed in version 0.22. Please use behaviour=\"new\", which makes the decision_function change to match other anomaly detection algorithm API.\n",
      "  FutureWarning)\n"
     ]
    },
    {
     "data": {
      "text/plain": [
       "IsolationForest(behaviour='old', bootstrap=False, contamination=0.1,\n",
       "                max_features=1.0, max_samples='auto', n_estimators=150,\n",
       "                n_jobs=None, random_state=None, verbose=0, warm_start=False)"
      ]
     },
     "execution_count": 139,
     "metadata": {},
     "output_type": "execute_result"
    }
   ],
   "source": [
    "train_model = IsolationForest(n_estimators=150, \n",
    "                              max_samples=\"auto\",\n",
    "                              contamination=0.1,\n",
    "                              verbose=0)\n",
    "train_model.fit(train)"
   ]
  },
  {
   "cell_type": "code",
   "execution_count": 140,
   "metadata": {},
   "outputs": [
    {
     "name": "stderr",
     "output_type": "stream",
     "text": [
      "C:\\ProgramData\\Anaconda3\\lib\\site-packages\\sklearn\\ensemble\\iforest.py:415: DeprecationWarning: threshold_ attribute is deprecated in 0.20 and will be removed in 0.22.\n",
      "  \" be removed in 0.22.\", DeprecationWarning)\n"
     ]
    },
    {
     "name": "stdout",
     "output_type": "stream",
     "text": [
      " 1    2216\n",
      "-1     247\n",
      "Name: anomaly, dtype: int64\n"
     ]
    }
   ],
   "source": [
    "train_pred = train_model.predict(train)\n",
    "train['anomaly'] = train_pred\n",
    "print(train['anomaly'].value_counts())"
   ]
  },
  {
   "cell_type": "code",
   "execution_count": 141,
   "metadata": {},
   "outputs": [
    {
     "data": {
      "image/png": "[encoded data removed]",
      "text/plain": [
       "<Figure size 432x288 with 1 Axes>"
      ]
     },
     "metadata": {
      "needs_background": "light"
     },
     "output_type": "display_data"
    }
   ],
   "source": [
    "outliers = train.loc[train.anomaly == -1]\n",
    "ourlier_index = list(outliers.index)\n",
    "\n",
    "pca = PCA(2)\n",
    "pca.fit(train)\n",
    "res = pd.DataFrame(pca.transform(train))\n",
    "\n",
    "plt.title(\"Train Isolation Forest\")\n",
    "b1 = plt.scatter(res[0], res[1], c='gray', s=20, label='normal')\n",
    "b1 = plt.scatter(res.iloc[ourlier_index, 0], res.iloc[ourlier_index, 1], c='red', edgecolor='red', label='outliers')\n",
    "plt.legend(loc='upper left')\n",
    "plt.show()"
   ]
  },
  {
   "cell_type": "code",
   "execution_count": 142,
   "metadata": {},
   "outputs": [
    {
     "name": "stderr",
     "output_type": "stream",
     "text": [
      "C:\\ProgramData\\Anaconda3\\lib\\site-packages\\sklearn\\ensemble\\iforest.py:237: FutureWarning: default contamination parameter 0.1 will change in version 0.22 to \"auto\". This will change the predict method behavior.\n",
      "  FutureWarning)\n",
      "C:\\ProgramData\\Anaconda3\\lib\\site-packages\\sklearn\\ensemble\\iforest.py:247: FutureWarning: behaviour=\"old\" is deprecated and will be removed in version 0.22. Please use behaviour=\"new\", which makes the decision_function change to match other anomaly detection algorithm API.\n",
      "  FutureWarning)\n"
     ]
    },
    {
     "data": {
      "text/plain": [
       "IsolationForest(behaviour='old', bootstrap=False, contamination='legacy',\n",
       "                max_features=1.0, max_samples=256, n_estimators=200,\n",
       "                n_jobs=None, random_state=None, verbose=0, warm_start=False)"
      ]
     },
     "execution_count": 142,
     "metadata": {},
     "output_type": "execute_result"
    }
   ],
   "source": [
    "test_model = IsolationForest(n_estimators=200, \n",
    "                             max_samples=256,\n",
    "                             verbose=0)\n",
    "test_model.fit(test)"
   ]
  },
  {
   "cell_type": "code",
   "execution_count": 143,
   "metadata": {},
   "outputs": [
    {
     "name": "stderr",
     "output_type": "stream",
     "text": [
      "C:\\ProgramData\\Anaconda3\\lib\\site-packages\\sklearn\\ensemble\\iforest.py:415: DeprecationWarning: threshold_ attribute is deprecated in 0.20 and will be removed in 0.22.\n",
      "  \" be removed in 0.22.\", DeprecationWarning)\n"
     ]
    },
    {
     "name": "stdout",
     "output_type": "stream",
     "text": [
      " 1    6650\n",
      "-1     739\n",
      "Name: anomaly, dtype: int64\n"
     ]
    }
   ],
   "source": [
    "test_pred = test_model.predict(test)\n",
    "test['anomaly'] = test_pred\n",
    "print(test['anomaly'].value_counts())"
   ]
  },
  {
   "cell_type": "code",
   "execution_count": 144,
   "metadata": {},
   "outputs": [
    {
     "data": {
      "image/png": "[encoded data removed]",
      "text/plain": [
       "<Figure size 432x288 with 1 Axes>"
      ]
     },
     "metadata": {
      "needs_background": "light"
     },
     "output_type": "display_data"
    }
   ],
   "source": [
    "outliers = test.loc[test.anomaly == -1]\n",
    "ourlier_index = list(outliers.index)\n",
    "\n",
    "pca = PCA(2)\n",
    "pca.fit(test)\n",
    "res = pd.DataFrame(pca.transform(test))\n",
    "\n",
    "plt.title(\"Test Isolation Forest\")\n",
    "b1 = plt.scatter(res[0], res[1], c='gray', s=20, label='normal')\n",
    "b1 = plt.scatter(res.iloc[ourlier_index, 0], res.iloc[ourlier_index, 1], c='red', edgecolor='red', label='outliers')\n",
    "plt.legend(loc='upper left')\n",
    "plt.show()"
   ]
  },
  {
   "cell_type": "code",
   "execution_count": 145,
   "metadata": {},
   "outputs": [
    {
     "name": "stdout",
     "output_type": "stream",
     "text": [
      " 1    6650\n",
      "-1     739\n",
      "Name: label, dtype: int64\n"
     ]
    }
   ],
   "source": [
    "submit = pd.read_csv('answer_sample.csv')\n",
    "submit['label'] = submit['label'].map( {1: 0, -1: 1} )\n",
    "\n",
    "submit['label'] = test_pred\n",
    "print(submit['label'].value_counts())"
   ]
  },
  {
   "cell_type": "markdown",
   "metadata": {},
   "source": [
    "## Submission"
   ]
  },
  {
   "cell_type": "code",
   "execution_count": 146,
   "metadata": {},
   "outputs": [],
   "source": [
    "def get_pred_label(train_pred):\n",
    "    # IsolationForest 모델 출력 (1:정상, -1:불량) 이므로 (0:정상, 1:불량)로 Label 변환\n",
    "    train_pred = np.where(train_pred == 1, 0, train_pred)\n",
    "    train_pred = np.where(train_pred == -1, 1, train_pred)\n",
    "    return train_pred"
   ]
  },
  {
   "cell_type": "code",
   "execution_count": 147,
   "metadata": {},
   "outputs": [],
   "source": [
    "test_pred = get_pred_label(test_pred)"
   ]
  },
  {
   "cell_type": "code",
   "execution_count": 148,
   "metadata": {},
   "outputs": [],
   "source": [
    "submit = pd.read_csv('./answer_sample.csv')"
   ]
  },
  {
   "cell_type": "code",
   "execution_count": 149,
   "metadata": {},
   "outputs": [
    {
     "name": "stdout",
     "output_type": "stream",
     "text": [
      "0    6650\n",
      "1     739\n",
      "Name: label, dtype: int64\n"
     ]
    },
    {
     "data": {
      "text/html": [
       "<div>\n",
       "<style scoped>\n",
       "    .dataframe tbody tr th:only-of-type {\n",
       "        vertical-align: middle;\n",
       "    }\n",
       "\n",
       "    .dataframe tbody tr th {\n",
       "        vertical-align: top;\n",
       "    }\n",
       "\n",
       "    .dataframe thead th {\n",
       "        text-align: right;\n",
       "    }\n",
       "</style>\n",
       "<table border=\"1\" class=\"dataframe\">\n",
       "  <thead>\n",
       "    <tr style=\"text-align: right;\">\n",
       "      <th></th>\n",
       "      <th>type</th>\n",
       "      <th>label</th>\n",
       "    </tr>\n",
       "  </thead>\n",
       "  <tbody>\n",
       "    <tr>\n",
       "      <td>0</td>\n",
       "      <td>0</td>\n",
       "      <td>0</td>\n",
       "    </tr>\n",
       "    <tr>\n",
       "      <td>1</td>\n",
       "      <td>0</td>\n",
       "      <td>0</td>\n",
       "    </tr>\n",
       "    <tr>\n",
       "      <td>2</td>\n",
       "      <td>0</td>\n",
       "      <td>0</td>\n",
       "    </tr>\n",
       "    <tr>\n",
       "      <td>3</td>\n",
       "      <td>0</td>\n",
       "      <td>0</td>\n",
       "    </tr>\n",
       "    <tr>\n",
       "      <td>4</td>\n",
       "      <td>0</td>\n",
       "      <td>0</td>\n",
       "    </tr>\n",
       "    <tr>\n",
       "      <td>...</td>\n",
       "      <td>...</td>\n",
       "      <td>...</td>\n",
       "    </tr>\n",
       "    <tr>\n",
       "      <td>7384</td>\n",
       "      <td>7</td>\n",
       "      <td>0</td>\n",
       "    </tr>\n",
       "    <tr>\n",
       "      <td>7385</td>\n",
       "      <td>7</td>\n",
       "      <td>0</td>\n",
       "    </tr>\n",
       "    <tr>\n",
       "      <td>7386</td>\n",
       "      <td>7</td>\n",
       "      <td>0</td>\n",
       "    </tr>\n",
       "    <tr>\n",
       "      <td>7387</td>\n",
       "      <td>7</td>\n",
       "      <td>0</td>\n",
       "    </tr>\n",
       "    <tr>\n",
       "      <td>7388</td>\n",
       "      <td>7</td>\n",
       "      <td>0</td>\n",
       "    </tr>\n",
       "  </tbody>\n",
       "</table>\n",
       "<p>7389 rows × 2 columns</p>\n",
       "</div>"
      ],
      "text/plain": [
       "      type  label\n",
       "0        0      0\n",
       "1        0      0\n",
       "2        0      0\n",
       "3        0      0\n",
       "4        0      0\n",
       "...    ...    ...\n",
       "7384     7      0\n",
       "7385     7      0\n",
       "7386     7      0\n",
       "7387     7      0\n",
       "7388     7      0\n",
       "\n",
       "[7389 rows x 2 columns]"
      ]
     },
     "execution_count": 149,
     "metadata": {},
     "output_type": "execute_result"
    }
   ],
   "source": [
    "submit['label'] = test_pred\n",
    "print(submit['label'].value_counts())\n",
    "submit"
   ]
  },
  {
   "cell_type": "code",
   "execution_count": 153,
   "metadata": {},
   "outputs": [],
   "source": [
    "submit.to_csv(\"submission.csv\", index = False)"
   ]
  }
 ],
 "metadata": {
  "kernelspec": {
   "display_name": "Python 3",
   "language": "python",
   "name": "python3"
  },
  "language_info": {
   "codemirror_mode": {
    "name": "ipython",
    "version": 3
   },
   "file_extension": ".py",
   "mimetype": "text/x-python",
   "name": "python",
   "nbconvert_exporter": "python",
   "pygments_lexer": "ipython3",
   "version": "3.7.4"
  },
  "toc": {
   "base_numbering": 1,
   "nav_menu": {},
   "number_sections": true,
   "sideBar": true,
   "skip_h1_title": false,
   "title_cell": "Table of Contents",
   "title_sidebar": "Contents",
   "toc_cell": false,
   "toc_position": {},
   "toc_section_display": true,
   "toc_window_display": false
  }
 },
 "nbformat": 4,
 "nbformat_minor": 2
}
