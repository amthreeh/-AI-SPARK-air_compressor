{
  "nbformat": 4,
  "nbformat_minor": 0,
  "metadata": {
    "colab": {
      "provenance": [],
      "mount_file_id": "1ldCPpGqMRDlQQfUpMOBishOp63pKDj5N",
      "authorship_tag": "ABX9TyMoynYPyR/qrKD9aROcGtCw",
      "include_colab_link": true
    },
    "kernelspec": {
      "name": "python3",
      "display_name": "Python 3"
    },
    "language_info": {
      "name": "python"
    }
  },
  "cells": [
    {
      "cell_type": "markdown",
      "metadata": {
        "id": "view-in-github",
        "colab_type": "text"
      },
      "source": [
        "<a href=\"https://colab.research.google.com/github/amthreeh/-AI-SPARK-air_compressor/blob/main/autoencoder_0_915.ipynb\" target=\"_parent\"><img src=\"https://colab.research.google.com/assets/colab-badge.svg\" alt=\"Open In Colab\"/></a>"
      ]
    },
    {
      "cell_type": "code",
      "source": [
        "pwd"
      ],
      "metadata": {
        "colab": {
          "base_uri": "https://localhost:8080/",
          "height": 35
        },
        "id": "IRYPH5NucUMw",
        "outputId": "aaa46d60-5c26-428b-f747-146f6d10ebf6"
      },
      "execution_count": 2,
      "outputs": [
        {
          "output_type": "execute_result",
          "data": {
            "text/plain": [
              "'/content'"
            ],
            "application/vnd.google.colaboratory.intrinsic+json": {
              "type": "string"
            }
          },
          "metadata": {},
          "execution_count": 2
        }
      ]
    },
    {
      "cell_type": "code",
      "source": [
        "import pandas as pd\n",
        "import numpy as np\n",
        "from sklearn.preprocessing import StandardScaler"
      ],
      "metadata": {
        "id": "kR8CIn4UdI1r"
      },
      "execution_count": 9,
      "outputs": []
    },
    {
      "cell_type": "code",
      "execution_count": 4,
      "metadata": {
        "id": "xNffExQUcO2d"
      },
      "outputs": [],
      "source": [
        "# train 데이터 불러오기\n",
        "train_data = pd.read_csv('drive/MyDrive/공기압축기/train_data.csv')\n",
        "\n",
        "# 특성 변수 선택\n",
        "features = ['air_inflow', 'air_end_temp', 'out_pressure', 'motor_current', 'motor_rpm', 'motor_temp', 'motor_vibe']\n",
        "\n",
        "# 특성 변수를 정규화하여 X 데이터로 만들기\n",
        "scaler = StandardScaler()\n",
        "X_train = scaler.fit_transform(train_data[features])\n"
      ]
    },
    {
      "cell_type": "code",
      "source": [
        "from keras.layers import Input, Dense\n",
        "from keras.models import Model\n",
        "\n",
        "# 입력층\n",
        "input_layer = Input(shape=(len(features),))\n",
        "\n",
        "# 인코더\n",
        "encoded = Dense(32, activation='relu')(input_layer)\n",
        "encoded = Dense(16, activation='relu')(encoded)\n",
        "encoded = Dense(8, activation='relu')(encoded)\n",
        "\n",
        "# 디코더\n",
        "decoded = Dense(16, activation='relu')(encoded)\n",
        "decoded = Dense(32, activation='relu')(decoded)\n",
        "decoded = Dense(len(features), activation=None)(decoded)\n",
        "\n",
        "# Autoencoder 모델\n",
        "autoencoder = Model(input_layer, decoded)\n",
        "\n",
        "# 인코더 모델\n",
        "encoder = Model(input_layer, encoded)\n"
      ],
      "metadata": {
        "id": "3d1jojz_cmpa"
      },
      "execution_count": 5,
      "outputs": []
    },
    {
      "cell_type": "code",
      "source": [
        "autoencoder.compile(optimizer='adam', loss='mse')\n",
        "autoencoder.fit(X_train, X_train, epochs=50, batch_size=32, validation_split=0.1)\n"
      ],
      "metadata": {
        "colab": {
          "base_uri": "https://localhost:8080/"
        },
        "id": "XVIswZm0cnro",
        "outputId": "bd733f1d-3dbb-4a47-f738-81360aa06b22"
      },
      "execution_count": 6,
      "outputs": [
        {
          "output_type": "stream",
          "name": "stdout",
          "text": [
            "Epoch 1/50\n",
            "70/70 [==============================] - 2s 5ms/step - loss: 0.6939 - val_loss: 0.1051\n",
            "Epoch 2/50\n",
            "70/70 [==============================] - 0s 2ms/step - loss: 0.1566 - val_loss: 0.0118\n",
            "Epoch 3/50\n",
            "70/70 [==============================] - 0s 2ms/step - loss: 0.0562 - val_loss: 0.0040\n",
            "Epoch 4/50\n",
            "70/70 [==============================] - 0s 2ms/step - loss: 0.0109 - val_loss: 0.0012\n",
            "Epoch 5/50\n",
            "70/70 [==============================] - 0s 2ms/step - loss: 0.0039 - val_loss: 7.0143e-04\n",
            "Epoch 6/50\n",
            "70/70 [==============================] - 0s 2ms/step - loss: 0.0018 - val_loss: 3.5790e-04\n",
            "Epoch 7/50\n",
            "70/70 [==============================] - 0s 2ms/step - loss: 0.0012 - val_loss: 2.8030e-04\n",
            "Epoch 8/50\n",
            "70/70 [==============================] - 0s 2ms/step - loss: 0.0010 - val_loss: 2.0870e-04\n",
            "Epoch 9/50\n",
            "70/70 [==============================] - 0s 2ms/step - loss: 8.1204e-04 - val_loss: 2.5813e-04\n",
            "Epoch 10/50\n",
            "70/70 [==============================] - 0s 2ms/step - loss: 7.1834e-04 - val_loss: 2.0918e-04\n",
            "Epoch 11/50\n",
            "70/70 [==============================] - 0s 2ms/step - loss: 6.5183e-04 - val_loss: 1.9787e-04\n",
            "Epoch 12/50\n",
            "70/70 [==============================] - 0s 2ms/step - loss: 5.8377e-04 - val_loss: 1.6343e-04\n",
            "Epoch 13/50\n",
            "70/70 [==============================] - 0s 2ms/step - loss: 5.2298e-04 - val_loss: 1.3355e-04\n",
            "Epoch 14/50\n",
            "70/70 [==============================] - 0s 2ms/step - loss: 4.9371e-04 - val_loss: 1.1905e-04\n",
            "Epoch 15/50\n",
            "70/70 [==============================] - 0s 2ms/step - loss: 4.5765e-04 - val_loss: 1.3095e-04\n",
            "Epoch 16/50\n",
            "70/70 [==============================] - 0s 2ms/step - loss: 4.0804e-04 - val_loss: 1.0274e-04\n",
            "Epoch 17/50\n",
            "70/70 [==============================] - 0s 2ms/step - loss: 4.0087e-04 - val_loss: 1.0549e-04\n",
            "Epoch 18/50\n",
            "70/70 [==============================] - 0s 2ms/step - loss: 3.8679e-04 - val_loss: 8.7731e-05\n",
            "Epoch 19/50\n",
            "70/70 [==============================] - 0s 2ms/step - loss: 3.4790e-04 - val_loss: 1.1111e-04\n",
            "Epoch 20/50\n",
            "70/70 [==============================] - 0s 2ms/step - loss: 4.6550e-04 - val_loss: 1.7973e-04\n",
            "Epoch 21/50\n",
            "70/70 [==============================] - 0s 2ms/step - loss: 4.0037e-04 - val_loss: 1.4487e-04\n",
            "Epoch 22/50\n",
            "70/70 [==============================] - 0s 2ms/step - loss: 9.2847e-04 - val_loss: 8.4957e-05\n",
            "Epoch 23/50\n",
            "70/70 [==============================] - 0s 2ms/step - loss: 3.3678e-04 - val_loss: 7.1755e-05\n",
            "Epoch 24/50\n",
            "70/70 [==============================] - 0s 2ms/step - loss: 3.4926e-04 - val_loss: 1.1038e-04\n",
            "Epoch 25/50\n",
            "70/70 [==============================] - 0s 2ms/step - loss: 5.5029e-04 - val_loss: 1.4710e-04\n",
            "Epoch 26/50\n",
            "70/70 [==============================] - 0s 2ms/step - loss: 3.0699e-04 - val_loss: 6.4343e-05\n",
            "Epoch 27/50\n",
            "70/70 [==============================] - 0s 2ms/step - loss: 2.6010e-04 - val_loss: 6.7163e-05\n",
            "Epoch 28/50\n",
            "70/70 [==============================] - 0s 2ms/step - loss: 2.5153e-04 - val_loss: 5.8831e-05\n",
            "Epoch 29/50\n",
            "70/70 [==============================] - 0s 3ms/step - loss: 2.6099e-04 - val_loss: 6.3019e-05\n",
            "Epoch 30/50\n",
            "70/70 [==============================] - 0s 2ms/step - loss: 2.3571e-04 - val_loss: 6.8865e-05\n",
            "Epoch 31/50\n",
            "70/70 [==============================] - 0s 2ms/step - loss: 2.2629e-04 - val_loss: 7.5674e-05\n",
            "Epoch 32/50\n",
            "70/70 [==============================] - 0s 2ms/step - loss: 2.2695e-04 - val_loss: 5.8630e-05\n",
            "Epoch 33/50\n",
            "70/70 [==============================] - 0s 2ms/step - loss: 2.2837e-04 - val_loss: 4.7225e-05\n",
            "Epoch 34/50\n",
            "70/70 [==============================] - 0s 2ms/step - loss: 4.0030e-04 - val_loss: 4.0303e-04\n",
            "Epoch 35/50\n",
            "70/70 [==============================] - 0s 2ms/step - loss: 0.0012 - val_loss: 5.1780e-04\n",
            "Epoch 36/50\n",
            "70/70 [==============================] - 0s 2ms/step - loss: 0.0070 - val_loss: 0.0020\n",
            "Epoch 37/50\n",
            "70/70 [==============================] - 0s 2ms/step - loss: 0.0049 - val_loss: 1.0953e-04\n",
            "Epoch 38/50\n",
            "70/70 [==============================] - 0s 2ms/step - loss: 0.0022 - val_loss: 8.5302e-05\n",
            "Epoch 39/50\n",
            "70/70 [==============================] - 0s 2ms/step - loss: 8.8414e-04 - val_loss: 1.9978e-04\n",
            "Epoch 40/50\n",
            "70/70 [==============================] - 0s 2ms/step - loss: 4.8102e-04 - val_loss: 9.5283e-05\n",
            "Epoch 41/50\n",
            "70/70 [==============================] - 0s 2ms/step - loss: 5.0247e-04 - val_loss: 7.8870e-05\n",
            "Epoch 42/50\n",
            "70/70 [==============================] - 0s 2ms/step - loss: 4.0108e-04 - val_loss: 8.5003e-05\n",
            "Epoch 43/50\n",
            "70/70 [==============================] - 0s 2ms/step - loss: 3.0118e-04 - val_loss: 7.1868e-05\n",
            "Epoch 44/50\n",
            "70/70 [==============================] - 0s 2ms/step - loss: 2.5391e-04 - val_loss: 3.8892e-05\n",
            "Epoch 45/50\n",
            "70/70 [==============================] - 0s 2ms/step - loss: 2.1993e-04 - val_loss: 3.7836e-05\n",
            "Epoch 46/50\n",
            "70/70 [==============================] - 0s 2ms/step - loss: 2.1208e-04 - val_loss: 6.8559e-05\n",
            "Epoch 47/50\n",
            "70/70 [==============================] - 0s 2ms/step - loss: 2.0458e-04 - val_loss: 5.7184e-05\n",
            "Epoch 48/50\n",
            "70/70 [==============================] - 0s 2ms/step - loss: 1.7487e-04 - val_loss: 3.2703e-05\n",
            "Epoch 49/50\n",
            "70/70 [==============================] - 0s 2ms/step - loss: 1.6776e-04 - val_loss: 6.9016e-05\n",
            "Epoch 50/50\n",
            "70/70 [==============================] - 0s 2ms/step - loss: 1.7956e-04 - val_loss: 3.5938e-05\n"
          ]
        },
        {
          "output_type": "execute_result",
          "data": {
            "text/plain": [
              "<keras.callbacks.History at 0x7fb42e20aee0>"
            ]
          },
          "metadata": {},
          "execution_count": 6
        }
      ]
    },
    {
      "cell_type": "code",
      "source": [
        "# train 데이터의 재구성 오차 구하기\n",
        "X_train_pred = autoencoder.predict(X_train)\n",
        "train_mae_loss = pd.DataFrame(np.mean(np.abs(X_train_pred - X_train), axis=1), columns=['mae_loss'])\n",
        "train_mae_loss.describe()\n",
        "\n",
        "# 재구성 오차의 분포 시각화\n",
        "import matplotlib.pyplot as plt\n",
        "plt.hist(train_mae_loss['mae_loss'], bins=50)\n",
        "plt.xlabel('Train MAE loss')\n",
        "plt.ylabel('No of samples')\n",
        "plt.show()\n",
        "\n",
        "# 재구성 오차의 임계치 설정하기\n",
        "threshold = train_mae_loss.quantile(0.99)['mae_loss']\n",
        "\n",
        "# test 데이터 불러오기 및 전처리\n",
        "test_data = pd.read_csv('drive/MyDrive/공기압축기/test_data.csv')\n",
        "X_test = scaler.transform(test_data[features])\n",
        "\n",
        "# test 데이터에 대한 예측\n",
        "X_test_pred = autoencoder.predict(X_test)\n",
        "test_mae_loss = np.mean(np.abs(X_test_pred - X_test), axis=1)\n",
        "\n",
        "# 이상치 판단하기\n",
        "test_data['anomaly'] = test_mae_loss > threshold\n",
        "anomalies = test_data.loc[test_data['anomaly'] == True]\n"
      ],
      "metadata": {
        "colab": {
          "base_uri": "https://localhost:8080/",
          "height": 485
        },
        "id": "BjXeJ3zIcqr8",
        "outputId": "8cf65d02-d4f8-44a7-a4ff-c9e729908fb2"
      },
      "execution_count": 10,
      "outputs": [
        {
          "output_type": "stream",
          "name": "stdout",
          "text": [
            "77/77 [==============================] - 0s 3ms/step\n"
          ]
        },
        {
          "output_type": "display_data",
          "data": {
            "text/plain": [
              "<Figure size 640x480 with 1 Axes>"
            ],
            "image/png": "[encoded data removed]"
          },
          "metadata": {}
        },
        {
          "output_type": "stream",
          "name": "stdout",
          "text": [
            "231/231 [==============================] - 0s 2ms/step\n"
          ]
        }
      ]
    },
    {
      "cell_type": "code",
      "source": [
        "print(test_data['anomaly'])"
      ],
      "metadata": {
        "colab": {
          "base_uri": "https://localhost:8080/"
        },
        "id": "4B04JImEdDk8",
        "outputId": "d250e5c2-8f12-475c-c405-079a9bb0f078"
      },
      "execution_count": 12,
      "outputs": [
        {
          "output_type": "stream",
          "name": "stdout",
          "text": [
            "0       False\n",
            "1       False\n",
            "2       False\n",
            "3       False\n",
            "4       False\n",
            "        ...  \n",
            "7384    False\n",
            "7385    False\n",
            "7386    False\n",
            "7387    False\n",
            "7388    False\n",
            "Name: anomaly, Length: 7389, dtype: bool\n"
          ]
        }
      ]
    },
    {
      "cell_type": "code",
      "source": [
        "print(anomalies)"
      ],
      "metadata": {
        "colab": {
          "base_uri": "https://localhost:8080/"
        },
        "id": "HACrvbKWdYmv",
        "outputId": "aea882dc-bc1b-4c37-e5ce-382156f25c90"
      },
      "execution_count": 13,
      "outputs": [
        {
          "output_type": "stream",
          "name": "stdout",
          "text": [
            "      air_inflow  air_end_temp  out_pressure  motor_current  motor_rpm  \\\n",
            "585         1.38         41.64           0.7          21.10     1651.0   \n",
            "586         2.06         51.95           0.7          31.64     2476.0   \n",
            "587         1.35         41.20           0.7          20.65     1616.0   \n",
            "588         2.86         63.93           0.7          43.88     3434.0   \n",
            "589         1.62         45.26           0.7          24.80     1941.0   \n",
            "...          ...           ...           ...            ...        ...   \n",
            "6800        1.44         50.90           0.7          27.05     2072.0   \n",
            "7342        1.60         45.04           0.7          24.57     1923.0   \n",
            "7348        2.76         62.36           0.7          42.28     3309.0   \n",
            "7359        1.48         43.15           0.7          22.64     1772.0   \n",
            "7360        1.74         47.05           0.7          26.63     2084.0   \n",
            "\n",
            "      motor_temp  motor_vibe  type  anomaly  \n",
            "585        58.34        3.12     0     True  \n",
            "586        59.34        3.58     0     True  \n",
            "587        60.34        3.10     0     True  \n",
            "588        61.34        4.11     0     True  \n",
            "589        62.34        3.28     0     True  \n",
            "...          ...         ...   ...      ...  \n",
            "6800       63.02        3.55     6     True  \n",
            "7342       61.37        3.27     7     True  \n",
            "7348       76.77        4.04     7     True  \n",
            "7359       59.69        3.18     7     True  \n",
            "7360       63.16        3.36     7     True  \n",
            "\n",
            "[401 rows x 9 columns]\n"
          ]
        }
      ]
    },
    {
      "cell_type": "code",
      "source": [
        "# label 작성하기\n",
        "test_data['label'] = test_data['anomaly'].apply(lambda x: 1 if x else 0)\n",
        "\n",
        "# answer_sample.csv 파일로 저장하기\n",
        "test_data[['type', 'label']].to_csv('answer_sample.csv', index=False)\n"
      ],
      "metadata": {
        "id": "l0OfT0Gpdgt7"
      },
      "execution_count": 14,
      "outputs": []
    },
    {
      "cell_type": "code",
      "source": [],
      "metadata": {
        "id": "LFKPdtboeXLQ"
      },
      "execution_count": null,
      "outputs": []
    }
  ]
}