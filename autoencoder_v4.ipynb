{
  "nbformat": 4,
  "nbformat_minor": 0,
  "metadata": {
    "colab": {
      "provenance": [],
      "authorship_tag": "ABX9TyN8F3g1lnfzdOKSZv6bnE8R",
      "include_colab_link": true
    },
    "kernelspec": {
      "name": "python3",
      "display_name": "Python 3"
    },
    "language_info": {
      "name": "python"
    }
  },
  "cells": [
    {
      "cell_type": "markdown",
      "metadata": {
        "id": "view-in-github",
        "colab_type": "text"
      },
      "source": [
        "<a href=\"https://colab.research.google.com/github/amthreeh/-AI-SPARK-air_compressor/blob/main/autoencoder_v4.ipynb\" target=\"_parent\"><img src=\"https://colab.research.google.com/assets/colab-badge.svg\" alt=\"Open In Colab\"/></a>"
      ]
    },
    {
      "cell_type": "code",
      "source": [
        "from google.colab import drive\n",
        "drive.mount('/content/drive')"
      ],
      "metadata": {
        "colab": {
          "base_uri": "https://localhost:8080/"
        },
        "id": "fQz-FSEx8w33",
        "outputId": "4d41ae6b-7fd5-45d7-c583-5fcedc55cdd8"
      },
      "execution_count": 1,
      "outputs": [
        {
          "output_type": "stream",
          "name": "stdout",
          "text": [
            "Drive already mounted at /content/drive; to attempt to forcibly remount, call drive.mount(\"/content/drive\", force_remount=True).\n"
          ]
        }
      ]
    },
    {
      "cell_type": "code",
      "source": [
        "import pandas as pd\n",
        "import numpy as np\n",
        "from sklearn.preprocessing import StandardScaler"
      ],
      "metadata": {
        "id": "BQEy9HoPB38Q"
      },
      "execution_count": 2,
      "outputs": []
    },
    {
      "cell_type": "code",
      "source": [
        "# train 데이터 불러오기\n",
        "train_data = pd.read_csv('drive/MyDrive/공기압축기/train_data.csv')\n",
        "\n",
        "features = ['air_inflow', 'air_end_temp', 'out_pressure', 'motor_current', 'motor_rpm', 'motor_temp', 'motor_vibe']\n",
        "\n",
        "# 특성 변수를 정규화하여 X 데이터로 만들기\n",
        "scaler = StandardScaler()\n",
        "X_train = scaler.fit_transform(train_data[features])"
      ],
      "metadata": {
        "id": "pKmmo6WjB0-s"
      },
      "execution_count": 3,
      "outputs": []
    },
    {
      "cell_type": "code",
      "source": [
        "from keras.layers import Input, Dense\n",
        "from keras.models import Model\n",
        "\n",
        "# 입력층\n",
        "input_layer = Input(shape=(len(features),))\n",
        "\n",
        "# 인코더\n",
        "encoded = Dense(64, activation='relu')(input_layer)\n",
        "encoded = Dense(32, activation='relu')(encoded)\n",
        "encoded = Dense(16, activation='relu')(encoded)\n",
        "encoded = Dense(8, activation='relu')(encoded)\n",
        "\n",
        "\n",
        "# 디코더\n",
        "decoded = Dense(16, activation='relu')(encoded)\n",
        "decoded = Dense(32, activation='relu')(decoded)\n",
        "decoded = Dense(len(features), activation=None)(decoded)\n",
        "\n",
        "# Autoencoder 모델\n",
        "autoencoder = Model(input_layer, decoded)\n",
        "\n",
        "# 인코더 모델\n",
        "encoder = Model(input_layer, encoded)\n"
      ],
      "metadata": {
        "id": "zJgDHXVE8y_a"
      },
      "execution_count": 4,
      "outputs": []
    },
    {
      "cell_type": "code",
      "source": [
        "from keras.optimizers import Adam\n",
        "autoencoder.compile(optimizer=Adam(lr=0.001), loss='mse')\n",
        "autoencoder.fit(X_train, X_train, epochs=100, batch_size=17, validation_split=0.3)\n"
      ],
      "metadata": {
        "colab": {
          "base_uri": "https://localhost:8080/"
        },
        "id": "OXZrHHlU1X-k",
        "outputId": "ba928d36-3ffc-428a-b381-66acdebefea1"
      },
      "execution_count": 5,
      "outputs": [
        {
          "output_type": "stream",
          "name": "stderr",
          "text": [
            "/usr/local/lib/python3.9/dist-packages/keras/optimizers/legacy/adam.py:117: UserWarning: The `lr` argument is deprecated, use `learning_rate` instead.\n",
            "  super().__init__(name, **kwargs)\n"
          ]
        },
        {
          "output_type": "stream",
          "name": "stdout",
          "text": [
            "Epoch 1/100\n",
            "102/102 [==============================] - 2s 11ms/step - loss: 0.4898 - val_loss: 0.0123\n",
            "Epoch 2/100\n",
            "102/102 [==============================] - 1s 6ms/step - loss: 0.0565 - val_loss: 0.0030\n",
            "Epoch 3/100\n",
            "102/102 [==============================] - 1s 12ms/step - loss: 0.0042 - val_loss: 0.0012\n",
            "Epoch 4/100\n",
            "102/102 [==============================] - 1s 10ms/step - loss: 0.0033 - val_loss: 6.4085e-04\n",
            "Epoch 5/100\n",
            "102/102 [==============================] - 1s 12ms/step - loss: 0.0016 - val_loss: 2.3432e-04\n",
            "Epoch 6/100\n",
            "102/102 [==============================] - 1s 11ms/step - loss: 8.3348e-04 - val_loss: 3.4255e-04\n",
            "Epoch 7/100\n",
            "102/102 [==============================] - 1s 6ms/step - loss: 7.9511e-04 - val_loss: 3.3058e-04\n",
            "Epoch 8/100\n",
            "102/102 [==============================] - 1s 7ms/step - loss: 0.0012 - val_loss: 1.9734e-04\n",
            "Epoch 9/100\n",
            "102/102 [==============================] - 1s 5ms/step - loss: 6.3026e-04 - val_loss: 3.0558e-04\n",
            "Epoch 10/100\n",
            "102/102 [==============================] - 1s 5ms/step - loss: 0.0013 - val_loss: 4.0133e-04\n",
            "Epoch 11/100\n",
            "102/102 [==============================] - 1s 6ms/step - loss: 0.0016 - val_loss: 3.3136e-04\n",
            "Epoch 12/100\n",
            "102/102 [==============================] - 1s 6ms/step - loss: 7.1248e-04 - val_loss: 4.8655e-04\n",
            "Epoch 13/100\n",
            "102/102 [==============================] - 1s 5ms/step - loss: 0.0023 - val_loss: 4.6976e-04\n",
            "Epoch 14/100\n",
            "102/102 [==============================] - 0s 5ms/step - loss: 8.0804e-04 - val_loss: 2.1326e-04\n",
            "Epoch 15/100\n",
            "102/102 [==============================] - 1s 5ms/step - loss: 5.1616e-04 - val_loss: 6.9287e-04\n",
            "Epoch 16/100\n",
            "102/102 [==============================] - 1s 6ms/step - loss: 0.0021 - val_loss: 3.3024e-04\n",
            "Epoch 17/100\n",
            "102/102 [==============================] - 1s 7ms/step - loss: 5.6652e-04 - val_loss: 1.4999e-04\n",
            "Epoch 18/100\n",
            "102/102 [==============================] - 1s 8ms/step - loss: 4.3146e-04 - val_loss: 1.0010e-04\n",
            "Epoch 19/100\n",
            "102/102 [==============================] - 1s 7ms/step - loss: 3.4578e-04 - val_loss: 9.2332e-04\n",
            "Epoch 20/100\n",
            "102/102 [==============================] - 1s 6ms/step - loss: 8.7398e-04 - val_loss: 2.5225e-04\n",
            "Epoch 21/100\n",
            "102/102 [==============================] - 1s 6ms/step - loss: 5.4790e-04 - val_loss: 1.9152e-04\n",
            "Epoch 22/100\n",
            "102/102 [==============================] - 1s 5ms/step - loss: 0.0012 - val_loss: 5.7936e-04\n",
            "Epoch 23/100\n",
            "102/102 [==============================] - 1s 8ms/step - loss: 0.0047 - val_loss: 0.0020\n",
            "Epoch 24/100\n",
            "102/102 [==============================] - 1s 10ms/step - loss: 0.0098 - val_loss: 6.4780e-04\n",
            "Epoch 25/100\n",
            "102/102 [==============================] - 1s 13ms/step - loss: 0.0014 - val_loss: 1.9151e-04\n",
            "Epoch 26/100\n",
            "102/102 [==============================] - 1s 14ms/step - loss: 5.0900e-04 - val_loss: 3.2886e-04\n",
            "Epoch 27/100\n",
            "102/102 [==============================] - 1s 9ms/step - loss: 3.9559e-04 - val_loss: 2.0800e-04\n",
            "Epoch 28/100\n",
            "102/102 [==============================] - 1s 5ms/step - loss: 5.4709e-04 - val_loss: 3.0123e-04\n",
            "Epoch 29/100\n",
            "102/102 [==============================] - 1s 6ms/step - loss: 0.0017 - val_loss: 5.8991e-04\n",
            "Epoch 30/100\n",
            "102/102 [==============================] - 1s 6ms/step - loss: 9.1333e-04 - val_loss: 9.2890e-05\n",
            "Epoch 31/100\n",
            "102/102 [==============================] - 1s 6ms/step - loss: 4.0019e-04 - val_loss: 1.2421e-04\n",
            "Epoch 32/100\n",
            "102/102 [==============================] - 1s 7ms/step - loss: 0.0029 - val_loss: 0.0021\n",
            "Epoch 33/100\n",
            "102/102 [==============================] - 1s 6ms/step - loss: 0.0013 - val_loss: 1.6429e-04\n",
            "Epoch 34/100\n",
            "102/102 [==============================] - 1s 6ms/step - loss: 3.8272e-04 - val_loss: 9.5202e-05\n",
            "Epoch 35/100\n",
            "102/102 [==============================] - 1s 6ms/step - loss: 4.7050e-04 - val_loss: 9.7731e-05\n",
            "Epoch 36/100\n",
            "102/102 [==============================] - 0s 3ms/step - loss: 0.0010 - val_loss: 7.1711e-05\n",
            "Epoch 37/100\n",
            "102/102 [==============================] - 0s 3ms/step - loss: 3.3141e-04 - val_loss: 7.2683e-05\n",
            "Epoch 38/100\n",
            "102/102 [==============================] - 0s 3ms/step - loss: 9.2040e-04 - val_loss: 4.6863e-05\n",
            "Epoch 39/100\n",
            "102/102 [==============================] - 0s 3ms/step - loss: 0.0021 - val_loss: 1.2373e-04\n",
            "Epoch 40/100\n",
            "102/102 [==============================] - 0s 3ms/step - loss: 0.0015 - val_loss: 1.6589e-04\n",
            "Epoch 41/100\n",
            "102/102 [==============================] - 0s 3ms/step - loss: 4.5071e-04 - val_loss: 4.9723e-05\n",
            "Epoch 42/100\n",
            "102/102 [==============================] - 0s 3ms/step - loss: 2.6324e-04 - val_loss: 2.6038e-05\n",
            "Epoch 43/100\n",
            "102/102 [==============================] - 0s 3ms/step - loss: 2.0759e-04 - val_loss: 5.6944e-05\n",
            "Epoch 44/100\n",
            "102/102 [==============================] - 0s 3ms/step - loss: 2.5555e-04 - val_loss: 1.2771e-04\n",
            "Epoch 45/100\n",
            "102/102 [==============================] - 0s 4ms/step - loss: 5.6345e-04 - val_loss: 5.2028e-05\n",
            "Epoch 46/100\n",
            "102/102 [==============================] - 0s 5ms/step - loss: 9.8603e-04 - val_loss: 1.8242e-04\n",
            "Epoch 47/100\n",
            "102/102 [==============================] - 1s 6ms/step - loss: 4.6452e-04 - val_loss: 3.8586e-05\n",
            "Epoch 48/100\n",
            "102/102 [==============================] - 1s 6ms/step - loss: 5.3505e-04 - val_loss: 2.2920e-04\n",
            "Epoch 49/100\n",
            "102/102 [==============================] - 1s 9ms/step - loss: 0.0013 - val_loss: 2.3805e-04\n",
            "Epoch 50/100\n",
            "102/102 [==============================] - 1s 8ms/step - loss: 0.0030 - val_loss: 0.0011\n",
            "Epoch 51/100\n",
            "102/102 [==============================] - 1s 7ms/step - loss: 0.0023 - val_loss: 1.6606e-04\n",
            "Epoch 52/100\n",
            "102/102 [==============================] - 1s 9ms/step - loss: 0.0012 - val_loss: 1.4284e-04\n",
            "Epoch 53/100\n",
            "102/102 [==============================] - 1s 8ms/step - loss: 3.8293e-04 - val_loss: 1.9817e-04\n",
            "Epoch 54/100\n",
            "102/102 [==============================] - 1s 8ms/step - loss: 4.2131e-04 - val_loss: 2.6898e-05\n",
            "Epoch 55/100\n",
            "102/102 [==============================] - 1s 6ms/step - loss: 2.2574e-04 - val_loss: 1.8789e-04\n",
            "Epoch 56/100\n",
            "102/102 [==============================] - 1s 7ms/step - loss: 7.0689e-04 - val_loss: 5.3789e-05\n",
            "Epoch 57/100\n",
            "102/102 [==============================] - 1s 8ms/step - loss: 2.3153e-04 - val_loss: 2.8177e-05\n",
            "Epoch 58/100\n",
            "102/102 [==============================] - 1s 6ms/step - loss: 6.1653e-04 - val_loss: 7.8665e-05\n",
            "Epoch 59/100\n",
            "102/102 [==============================] - 1s 5ms/step - loss: 8.3616e-04 - val_loss: 1.1496e-04\n",
            "Epoch 60/100\n",
            "102/102 [==============================] - 1s 7ms/step - loss: 0.0013 - val_loss: 7.5436e-04\n",
            "Epoch 61/100\n",
            "102/102 [==============================] - 0s 5ms/step - loss: 0.0010 - val_loss: 8.9028e-05\n",
            "Epoch 62/100\n",
            "102/102 [==============================] - 1s 5ms/step - loss: 5.1652e-04 - val_loss: 5.3823e-05\n",
            "Epoch 63/100\n",
            "102/102 [==============================] - 0s 4ms/step - loss: 0.0025 - val_loss: 1.5618e-04\n",
            "Epoch 64/100\n",
            "102/102 [==============================] - 1s 7ms/step - loss: 4.8421e-04 - val_loss: 5.0031e-05\n",
            "Epoch 65/100\n",
            "102/102 [==============================] - 1s 7ms/step - loss: 4.0988e-04 - val_loss: 6.4588e-05\n",
            "Epoch 66/100\n",
            "102/102 [==============================] - 1s 6ms/step - loss: 3.8416e-04 - val_loss: 1.6849e-04\n",
            "Epoch 67/100\n",
            "102/102 [==============================] - 1s 6ms/step - loss: 3.8767e-04 - val_loss: 4.6764e-04\n",
            "Epoch 68/100\n",
            "102/102 [==============================] - 1s 6ms/step - loss: 5.4325e-04 - val_loss: 2.6740e-05\n",
            "Epoch 69/100\n",
            "102/102 [==============================] - 1s 6ms/step - loss: 2.6984e-04 - val_loss: 3.3972e-04\n",
            "Epoch 70/100\n",
            "102/102 [==============================] - 1s 8ms/step - loss: 0.0013 - val_loss: 2.5784e-04\n",
            "Epoch 71/100\n",
            "102/102 [==============================] - 1s 9ms/step - loss: 8.7823e-04 - val_loss: 0.0015\n",
            "Epoch 72/100\n",
            "102/102 [==============================] - 1s 10ms/step - loss: 0.0027 - val_loss: 1.1177e-04\n",
            "Epoch 73/100\n",
            "102/102 [==============================] - 1s 10ms/step - loss: 2.7536e-04 - val_loss: 5.4247e-05\n",
            "Epoch 74/100\n",
            "102/102 [==============================] - 1s 7ms/step - loss: 2.0394e-04 - val_loss: 2.4284e-05\n",
            "Epoch 75/100\n",
            "102/102 [==============================] - 1s 9ms/step - loss: 3.4221e-04 - val_loss: 5.7029e-05\n",
            "Epoch 76/100\n",
            "102/102 [==============================] - 1s 7ms/step - loss: 5.6163e-04 - val_loss: 2.7857e-05\n",
            "Epoch 77/100\n",
            "102/102 [==============================] - 1s 6ms/step - loss: 0.0015 - val_loss: 7.8397e-04\n",
            "Epoch 78/100\n",
            "102/102 [==============================] - 1s 8ms/step - loss: 0.0025 - val_loss: 9.2917e-05\n",
            "Epoch 79/100\n",
            "102/102 [==============================] - 1s 7ms/step - loss: 4.1730e-04 - val_loss: 1.7461e-04\n",
            "Epoch 80/100\n",
            "102/102 [==============================] - 1s 9ms/step - loss: 3.5015e-04 - val_loss: 6.0899e-05\n",
            "Epoch 81/100\n",
            "102/102 [==============================] - 1s 6ms/step - loss: 1.8426e-04 - val_loss: 4.8568e-05\n",
            "Epoch 82/100\n",
            "102/102 [==============================] - 1s 6ms/step - loss: 3.3656e-04 - val_loss: 5.9210e-05\n",
            "Epoch 83/100\n",
            "102/102 [==============================] - 1s 6ms/step - loss: 0.0021 - val_loss: 7.1574e-04\n",
            "Epoch 84/100\n",
            "102/102 [==============================] - 0s 3ms/step - loss: 0.0025 - val_loss: 3.0946e-04\n",
            "Epoch 85/100\n",
            "102/102 [==============================] - 0s 3ms/step - loss: 8.4097e-04 - val_loss: 1.2340e-04\n",
            "Epoch 86/100\n",
            "102/102 [==============================] - 0s 3ms/step - loss: 3.0847e-04 - val_loss: 2.9866e-05\n",
            "Epoch 87/100\n",
            "102/102 [==============================] - 0s 3ms/step - loss: 2.8387e-04 - val_loss: 1.1287e-04\n",
            "Epoch 88/100\n",
            "102/102 [==============================] - 0s 3ms/step - loss: 0.0039 - val_loss: 6.4104e-04\n",
            "Epoch 89/100\n",
            "102/102 [==============================] - 0s 3ms/step - loss: 0.0022 - val_loss: 1.8762e-04\n",
            "Epoch 90/100\n",
            "102/102 [==============================] - 0s 3ms/step - loss: 7.5115e-04 - val_loss: 9.6981e-05\n",
            "Epoch 91/100\n",
            "102/102 [==============================] - 0s 3ms/step - loss: 2.2003e-04 - val_loss: 3.7383e-05\n",
            "Epoch 92/100\n",
            "102/102 [==============================] - 0s 3ms/step - loss: 2.4913e-04 - val_loss: 2.9635e-05\n",
            "Epoch 93/100\n",
            "102/102 [==============================] - 0s 3ms/step - loss: 2.1400e-04 - val_loss: 4.0702e-05\n",
            "Epoch 94/100\n",
            "102/102 [==============================] - 0s 3ms/step - loss: 2.9976e-04 - val_loss: 7.1913e-05\n",
            "Epoch 95/100\n",
            "102/102 [==============================] - 0s 3ms/step - loss: 1.9488e-04 - val_loss: 2.9651e-05\n",
            "Epoch 96/100\n",
            "102/102 [==============================] - 0s 3ms/step - loss: 0.0011 - val_loss: 0.0023\n",
            "Epoch 97/100\n",
            "102/102 [==============================] - 0s 3ms/step - loss: 0.0017 - val_loss: 3.1312e-05\n",
            "Epoch 98/100\n",
            "102/102 [==============================] - 0s 4ms/step - loss: 1.9080e-04 - val_loss: 1.9339e-05\n",
            "Epoch 99/100\n",
            "102/102 [==============================] - 0s 4ms/step - loss: 1.2857e-04 - val_loss: 1.6396e-05\n",
            "Epoch 100/100\n",
            "102/102 [==============================] - 0s 4ms/step - loss: 1.7366e-04 - val_loss: 7.0346e-05\n"
          ]
        },
        {
          "output_type": "execute_result",
          "data": {
            "text/plain": [
              "<keras.callbacks.History at 0x7f83181acd00>"
            ]
          },
          "metadata": {},
          "execution_count": 5
        }
      ]
    },
    {
      "cell_type": "code",
      "source": [
        "# train 데이터의 재구성 오차 구하기\n",
        "X_train_pred = autoencoder.predict(X_train)\n",
        "train_mae_loss = pd.DataFrame(np.mean(np.abs(X_train_pred - X_train), axis=1), columns=['mae_loss'])\n",
        "train_mae_loss.describe()\n",
        "\n",
        "# 재구성 오차의 분포 시각화\n",
        "import matplotlib.pyplot as plt\n",
        "plt.hist(train_mae_loss['mae_loss'], bins=50)\n",
        "plt.xlabel('Train MAE loss')\n",
        "plt.ylabel('No of samples')\n",
        "plt.show()\n",
        "\n",
        "# 재구성 오차의 임계치 설정하기\n",
        "threshold = train_mae_loss.quantile(0.99)['mae_loss']\n",
        "\n",
        "# test 데이터 불러오기 및 전처리\n",
        "test_data = pd.read_csv('drive/MyDrive/공기압축기/test_data.csv')\n",
        "X_test = scaler.transform(test_data[features])\n",
        "\n",
        "# test 데이터에 대한 예측\n",
        "X_test_pred = autoencoder.predict(X_test)\n",
        "test_mae_loss = np.mean(np.abs(X_test_pred - X_test), axis=1)\n",
        "\n",
        "# 이상치 판단하기\n",
        "test_data['anomaly'] = test_mae_loss > threshold\n",
        "anomalies = test_data.loc[test_data['anomaly'] == True]\n"
      ],
      "metadata": {
        "colab": {
          "base_uri": "https://localhost:8080/",
          "height": 485
        },
        "id": "UTi7A8Fe9GuD",
        "outputId": "35281fd8-103a-406f-ee91-4053210fb79b"
      },
      "execution_count": 6,
      "outputs": [
        {
          "output_type": "stream",
          "name": "stdout",
          "text": [
            "77/77 [==============================] - 0s 1ms/step\n"
          ]
        },
        {
          "output_type": "display_data",
          "data": {
            "text/plain": [
              "<Figure size 640x480 with 1 Axes>"
            ],
            "image/png": "[encoded data removed]"
          },
          "metadata": {}
        },
        {
          "output_type": "stream",
          "name": "stdout",
          "text": [
            "231/231 [==============================] - 0s 1ms/step\n"
          ]
        }
      ]
    },
    {
      "cell_type": "code",
      "source": [
        "# label 작성하기\n",
        "test_data['label'] = test_data['anomaly'].apply(lambda x: 1 if x else 0)\n",
        "\n",
        "# answer_sample.csv 파일로 저장하기\n",
        "test_data[['type', 'label']].to_csv('answer_sample.csv', index=False)\n"
      ],
      "metadata": {
        "id": "LyrqfCjI_1yI"
      },
      "execution_count": 7,
      "outputs": []
    },
    {
      "cell_type": "code",
      "source": [],
      "metadata": {
        "id": "p0iePKKBFcN-"
      },
      "execution_count": 7,
      "outputs": []
    }
  ]
}